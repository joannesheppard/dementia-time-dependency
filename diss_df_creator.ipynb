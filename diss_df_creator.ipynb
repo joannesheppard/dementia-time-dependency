{
 "cells": [
  {
   "cell_type": "code",
   "execution_count": 1,
   "metadata": {},
   "outputs": [],
   "source": [
    "import pandas as pd\n",
    "import numpy as np\n",
    "import matplotlib.pyplot as plt\n",
    "import seaborn as sns\n",
    "import re\n",
    "from dateutil.relativedelta import relativedelta\n",
    "from functools import reduce\n",
    "from sklearn.ensemble import RandomForestClassifier\n",
    "from sklearn.model_selection import train_test_split\n",
    "from sklearn import metrics\n",
    "\n",
    "\n",
    "\n",
    "\n",
    "%matplotlib inline"
   ]
  },
  {
   "cell_type": "code",
   "execution_count": 2,
   "metadata": {},
   "outputs": [],
   "source": [
    "attend_codes = pd.read_csv(\"did_not_attend_codes.txt\", sep = '\\t')\n",
    "attend_codes = attend_codes['medcode'].astype(str).values.tolist()\n",
    "\n",
    "weight_loss_codes = pd.read_csv(\"weight_loss_codes.txt\", sep = '\\t')\n",
    "weight_loss_codes = weight_loss_codes['medcode'].astype(str).values.tolist()\n",
    "\n",
    "third_codes = pd.read_csv(\"third_party_consultation.txt\", sep = '\\t')\n",
    "third_codes = third_codes['medcode'].astype(str).values.tolist()\n",
    "\n",
    "\n",
    "\n",
    "\n",
    "\n",
    "\n",
    "\n",
    "va_codes = pd.read_csv(\"violent_agressive_behaviour.txt\", sep = '\\t')\n",
    "va_codes = va_codes['medcode'].astype(str).values.tolist()\n",
    "\n",
    "bc_codes = pd.read_csv(\"behaviour_change.txt\", sep = '\\t')\n",
    "bc_codes = bc_codes['medcode'].astype(str).values.tolist()\n",
    "\n",
    "dw_codes = pd.read_csv(\"disorientation_wandering.txt\", sep = '\\t')\n",
    "dw_codes = dw_codes['medcode'].astype(str).values.tolist()\n",
    "\n",
    "pc_codes = pd.read_csv(\"personality_change.txt\", sep = '\\t')\n",
    "pc_codes = pc_codes['medcode'].astype(str).values.tolist()\n",
    "\n",
    "behav_codes = list(set(va_codes + bc_codes + dw_codes + pc_codes))\n",
    "\n",
    "\n",
    "\n",
    "\n",
    "\n",
    "\n",
    "\n",
    "\n",
    "\n",
    "ch_codes = pd.read_csv(\"care_in_home.txt\", sep = '\\t')\n",
    "ch_codes = ch_codes['medcode'].astype(str).values.tolist()\n",
    "\n",
    "nh_codes = pd.read_csv(\"needs_help.txt\", sep = '\\t')\n",
    "nh_codes = nh_codes['medcode'].astype(str).values.tolist()\n",
    "\n",
    "rhc_codes = pd.read_csv(\"receives_home_care.txt\", sep = '\\t')\n",
    "rhc_codes = rhc_codes['medcode'].astype(str).values.tolist()\n",
    "\n",
    "ssi_codes = pd.read_csv(\"social_services_interaction.txt\", sep = '\\t')\n",
    "ssi_codes = ssi_codes['medcode'].astype(str).values.tolist()\n",
    "\n",
    "interaction_codes = list(set(ch_codes + nh_codes + rhc_codes + ssi_codes))\n",
    "\n"
   ]
  },
  {
   "cell_type": "markdown",
   "metadata": {},
   "source": [
    "Getting rid of any cases without any matched controls"
   ]
  },
  {
   "cell_type": "code",
   "execution_count": 3,
   "metadata": {},
   "outputs": [],
   "source": [
    "matches = pd.read_csv('Matching_File.txt',delimiter='\\t')\n",
    "matches = matches.dropna(how='any') "
   ]
  },
  {
   "cell_type": "markdown",
   "metadata": {},
   "source": [
    "Taking the matched file and creating a vertical database 'cases_and_controls'"
   ]
  },
  {
   "cell_type": "code",
   "execution_count": 4,
   "metadata": {},
   "outputs": [
    {
     "name": "stderr",
     "output_type": "stream",
     "text": [
      "/Users/Joanne/anaconda3/lib/python3.7/site-packages/ipykernel_launcher.py:2: SettingWithCopyWarning: \n",
      "A value is trying to be set on a copy of a slice from a DataFrame.\n",
      "Try using .loc[row_indexer,col_indexer] = value instead\n",
      "\n",
      "See the caveats in the documentation: http://pandas.pydata.org/pandas-docs/stable/indexing.html#indexing-view-versus-copy\n",
      "  \n",
      "/Users/Joanne/anaconda3/lib/python3.7/site-packages/ipykernel_launcher.py:8: FutureWarning: Sorting because non-concatenation axis is not aligned. A future version\n",
      "of pandas will change to not sort by default.\n",
      "\n",
      "To accept the future behavior, pass 'sort=False'.\n",
      "\n",
      "To retain the current behavior and silence the warning, pass 'sort=True'.\n",
      "\n",
      "  \n"
     ]
    },
    {
     "name": "stdout",
     "output_type": "stream",
     "text": [
      "\n"
     ]
    }
   ],
   "source": [
    "cases = matches[['case_patid','control_patid','case_index','case_gender','case_birthyear']]\n",
    "cases['isCase'] = True\n",
    "controls = cases[['control_patid','case_gender','case_birthyear','case_index']]\n",
    "controls = controls.rename(index=str,columns={'control_patid':'patid','case_gender':'gender','case_birthyear':'yob','case_index':'index_date'})\n",
    "controls['isCase']=False\n",
    "cases = cases.drop(['control_patid'], axis=1)\n",
    "cases = cases.rename(index=str, columns={'case_patid':'patid','case_gender':'gender','case_birthyear':'yob','case_index':'index_date'})\n",
    "cases_and_controls = pd.concat([cases,controls])\n",
    "controls['patid'].dropna()\n",
    "controls['patid'] = controls['patid'].astype('float64')\n",
    "controls['patid'].apply(lambda x: x if np.isnan(x) else np.int64(x))\n",
    "controls['patid'].dropna()\n",
    "print()"
   ]
  },
  {
   "cell_type": "markdown",
   "metadata": {},
   "source": [
    "Making 'index_date' date_time"
   ]
  },
  {
   "cell_type": "code",
   "execution_count": 16,
   "metadata": {},
   "outputs": [],
   "source": [
    "cases_and_controls['index_date'] = pd.to_datetime(cases_and_controls['index_date'])"
   ]
  },
  {
   "cell_type": "markdown",
   "metadata": {},
   "source": [
    "Dataframe with all appointment information"
   ]
  },
  {
   "cell_type": "code",
   "execution_count": 17,
   "metadata": {},
   "outputs": [],
   "source": [
    "df = pd.read_csv('medcoded_entries.csv', usecols =['patid','eventdate', 'medcode'])\n",
    "df['medcode'] = df['medcode'].astype(str)\n",
    "df['medcode'].str.strip()\n",
    "\n",
    "df = df"
   ]
  },
  {
   "cell_type": "markdown",
   "metadata": {},
   "source": [
    "Joining all eventdate with index_date and then working out the difference between the two"
   ]
  },
  {
   "cell_type": "code",
   "execution_count": 18,
   "metadata": {},
   "outputs": [],
   "source": [
    "df['eventdate'] = pd.to_datetime(df['eventdate'])"
   ]
  },
  {
   "cell_type": "code",
   "execution_count": 19,
   "metadata": {},
   "outputs": [],
   "source": [
    "df = df.merge(cases_and_controls, how='left', on=['patid'])"
   ]
  },
  {
   "cell_type": "code",
   "execution_count": 20,
   "metadata": {},
   "outputs": [],
   "source": [
    "df['time_difference'] = (df['eventdate'].subtract(df['index_date']))/np.timedelta64(1, 'Y')"
   ]
  },
  {
   "cell_type": "markdown",
   "metadata": {},
   "source": [
    "To exclude all patients with less than 5 years of data"
   ]
  },
  {
   "cell_type": "code",
   "execution_count": 21,
   "metadata": {},
   "outputs": [
    {
     "data": {
      "text/plain": [
       "94557"
      ]
     },
     "execution_count": 21,
     "metadata": {},
     "output_type": "execute_result"
    }
   ],
   "source": [
    "def isLess(x):\n",
    "    if x <= -5: return True\n",
    "    else: return False\n",
    "\n",
    "dft = df\n",
    "dft['5yr'] = df['time_difference'].apply(isLess)\n",
    "\n",
    "dft = dft[dft['5yr'] == True]\n",
    "\n",
    "new_cc = cases_and_controls\n",
    "\n",
    "new_cc['5yr_Boo'] = new_cc.patid.isin(dft['patid'])\n",
    "\n",
    "new_cc = new_cc[new_cc['5yr_Boo'] == True]\n",
    "\n",
    "len(new_cc.axes[0])"
   ]
  },
  {
   "cell_type": "code",
   "execution_count": null,
   "metadata": {},
   "outputs": [],
   "source": []
  },
  {
   "cell_type": "code",
   "execution_count": 28,
   "metadata": {},
   "outputs": [
    {
     "name": "stderr",
     "output_type": "stream",
     "text": [
      "/Users/Joanne/anaconda3/lib/python3.7/site-packages/ipykernel_launcher.py:6: SettingWithCopyWarning: \n",
      "A value is trying to be set on a copy of a slice from a DataFrame.\n",
      "Try using .loc[row_indexer,col_indexer] = value instead\n",
      "\n",
      "See the caveats in the documentation: http://pandas.pydata.org/pandas-docs/stable/indexing.html#indexing-view-versus-copy\n",
      "  \n",
      "/Users/Joanne/anaconda3/lib/python3.7/site-packages/ipykernel_launcher.py:12: FutureWarning: Sorting because non-concatenation axis is not aligned. A future version\n",
      "of pandas will change to not sort by default.\n",
      "\n",
      "To accept the future behavior, pass 'sort=False'.\n",
      "\n",
      "To retain the current behavior and silence the warning, pass 'sort=True'.\n",
      "\n",
      "  if sys.path[0] == '':\n"
     ]
    },
    {
     "data": {
      "text/plain": [
       "0         4355328.0\n",
       "1         6290216.0\n",
       "2         2770420.0\n",
       "3         5473429.0\n",
       "4         5951081.0\n",
       "5        17742438.0\n",
       "6         5262373.0\n",
       "7         6394024.0\n",
       "8        15830371.0\n",
       "9         9053629.0\n",
       "10        2042198.0\n",
       "11        8669429.0\n",
       "12        9380236.0\n",
       "13         150510.0\n",
       "14        4145573.0\n",
       "15       11375168.0\n",
       "16         809598.0\n",
       "17        1592003.0\n",
       "18        4976153.0\n",
       "19        3672153.0\n",
       "20       12542457.0\n",
       "21        5927320.0\n",
       "22        5938496.0\n",
       "23        2388116.0\n",
       "24        6613271.0\n",
       "25        5044625.0\n",
       "26        3646191.0\n",
       "28       14431632.0\n",
       "29       17317066.0\n",
       "30       12911385.0\n",
       "            ...    \n",
       "47828     2974035.0\n",
       "47829     1385115.0\n",
       "47830     7533113.0\n",
       "47831     4570504.0\n",
       "47832     2999375.0\n",
       "47833      522462.0\n",
       "47834     3798652.0\n",
       "47835    68401229.0\n",
       "47836     4352135.0\n",
       "47837    11233173.0\n",
       "47838     1008666.0\n",
       "47839     4836628.0\n",
       "47840    16025205.0\n",
       "47841     7367091.0\n",
       "47842     3389483.0\n",
       "47843     1584096.0\n",
       "47844    23324287.0\n",
       "47845     2158117.0\n",
       "47846     3488544.0\n",
       "47847       58663.0\n",
       "47848     4394365.0\n",
       "47849     2462654.0\n",
       "47850    12658323.0\n",
       "47851    12232435.0\n",
       "47852    22164640.0\n",
       "47853    28120088.0\n",
       "47854    10375067.0\n",
       "47855     2115338.0\n",
       "47856    26294319.0\n",
       "47857     1255264.0\n",
       "Name: patid, Length: 47264, dtype: float64"
      ]
     },
     "execution_count": 28,
     "metadata": {},
     "output_type": "execute_result"
    }
   ],
   "source": [
    "matches = pd.read_csv('Matching_File.txt',delimiter='\\t')\n",
    "matches = matches.dropna(how='any') \n",
    "matches['5yr'] = matches.case_patid.isin(new_cc['patid'])\n",
    "matches = matches[matches['5yr'] == True]\n",
    "cases = matches[['case_patid','control_patid','case_index','case_gender','case_birthyear']]\n",
    "cases['isCase'] = True\n",
    "controls = cases[['control_patid','case_gender','case_birthyear','case_index']]\n",
    "controls = controls.rename(index=str,columns={'control_patid':'patid','case_gender':'gender','case_birthyear':'yob','case_index':'index_date'})\n",
    "controls['isCase']=False\n",
    "cases = cases.drop(['control_patid'], axis=1)\n",
    "cases = cases.rename(index=str, columns={'case_patid':'patid','case_gender':'gender','case_birthyear':'yob','case_index':'index_date'})\n",
    "cases_and_controls = pd.concat([cases,controls])\n",
    "controls['patid'].dropna()\n",
    "controls['patid'] = controls['patid'].astype('float64')\n",
    "controls['patid'].apply(lambda x: x if np.isnan(x) else np.int64(x))\n",
    "controls['patid'].dropna()"
   ]
  },
  {
   "cell_type": "code",
   "execution_count": 31,
   "metadata": {},
   "outputs": [
    {
     "data": {
      "text/plain": [
       "94528"
      ]
     },
     "execution_count": 31,
     "metadata": {},
     "output_type": "execute_result"
    }
   ],
   "source": [
    "len(cases.axes[0]) + len(controls.axes[0])"
   ]
  },
  {
   "cell_type": "markdown",
   "metadata": {},
   "source": [
    "To exclude all cases without a dementia code"
   ]
  },
  {
   "cell_type": "code",
   "execution_count": 36,
   "metadata": {},
   "outputs": [
    {
     "name": "stderr",
     "output_type": "stream",
     "text": [
      "/Users/Joanne/anaconda3/lib/python3.7/site-packages/ipykernel_launcher.py:11: SettingWithCopyWarning: \n",
      "A value is trying to be set on a copy of a slice from a DataFrame.\n",
      "Try using .loc[row_indexer,col_indexer] = value instead\n",
      "\n",
      "See the caveats in the documentation: http://pandas.pydata.org/pandas-docs/stable/indexing.html#indexing-view-versus-copy\n",
      "  # This is added back by InteractiveShellApp.init_path()\n"
     ]
    },
    {
     "data": {
      "text/plain": [
       "47209"
      ]
     },
     "execution_count": 36,
     "metadata": {},
     "output_type": "execute_result"
    }
   ],
   "source": [
    "df_jra = pd.read_csv('1_key_data.csv',sep = '\\t')\n",
    "df_dem = cases_and_controls.merge(df_jra, on='patid', how='outer')\n",
    "\n",
    "\n",
    "def noDementia(x):\n",
    "    if x == 0: return False\n",
    "    else: return True\n",
    "    \n",
    "dft = df_dem[df_dem['isCase'] == True]\n",
    "\n",
    "dft['noDem'] = df_dem['dementia_codes'].apply(noDementia)\n",
    "\n",
    "dft = dft[dft['noDem'] == True]\n",
    "\n",
    "new_cc = cases_and_controls\n",
    "\n",
    "new_cc['noDem'] = new_cc.patid.isin(dft['patid'])\n",
    "\n",
    "new_cc = new_cc[new_cc['noDem'] == True]\n",
    "\n",
    "len(new_cc.axes[0])"
   ]
  },
  {
   "cell_type": "code",
   "execution_count": 37,
   "metadata": {},
   "outputs": [
    {
     "name": "stderr",
     "output_type": "stream",
     "text": [
      "/Users/Joanne/anaconda3/lib/python3.7/site-packages/ipykernel_launcher.py:4: SettingWithCopyWarning: \n",
      "A value is trying to be set on a copy of a slice from a DataFrame.\n",
      "Try using .loc[row_indexer,col_indexer] = value instead\n",
      "\n",
      "See the caveats in the documentation: http://pandas.pydata.org/pandas-docs/stable/indexing.html#indexing-view-versus-copy\n",
      "  after removing the cwd from sys.path.\n",
      "/Users/Joanne/anaconda3/lib/python3.7/site-packages/ipykernel_launcher.py:10: FutureWarning: Sorting because non-concatenation axis is not aligned. A future version\n",
      "of pandas will change to not sort by default.\n",
      "\n",
      "To accept the future behavior, pass 'sort=False'.\n",
      "\n",
      "To retain the current behavior and silence the warning, pass 'sort=True'.\n",
      "\n",
      "  # Remove the CWD from sys.path while we load stuff.\n"
     ]
    },
    {
     "name": "stdout",
     "output_type": "stream",
     "text": [
      "94418\n"
     ]
    }
   ],
   "source": [
    "matches['Dem'] = matches.case_patid.isin(new_cc['patid'])\n",
    "matches = matches[matches['Dem'] == True]\n",
    "cases = matches[['case_patid','control_patid','case_index','case_gender','case_birthyear']]\n",
    "cases['isCase'] = True\n",
    "controls = cases[['control_patid','case_gender','case_birthyear','case_index']]\n",
    "controls = controls.rename(index=str,columns={'control_patid':'patid','case_gender':'gender','case_birthyear':'yob','case_index':'index_date'})\n",
    "controls['isCase']=False\n",
    "cases = cases.drop(['control_patid'], axis=1)\n",
    "cases = cases.rename(index=str, columns={'case_patid':'patid','case_gender':'gender','case_birthyear':'yob','case_index':'index_date'})\n",
    "cases_and_controls = pd.concat([cases,controls])\n",
    "controls['patid'].dropna()\n",
    "controls['patid'] = controls['patid'].astype('float64')\n",
    "controls['patid'].apply(lambda x: x if np.isnan(x) else np.int64(x))\n",
    "controls['patid'].dropna()\n",
    "\n",
    "\n",
    "print(len(cases.axes[0]) + len(controls.axes[0]))"
   ]
  },
  {
   "cell_type": "code",
   "execution_count": 38,
   "metadata": {},
   "outputs": [
    {
     "name": "stderr",
     "output_type": "stream",
     "text": [
      "/Users/Joanne/anaconda3/lib/python3.7/site-packages/ipykernel_launcher.py:11: SettingWithCopyWarning: \n",
      "A value is trying to be set on a copy of a slice from a DataFrame.\n",
      "Try using .loc[row_indexer,col_indexer] = value instead\n",
      "\n",
      "See the caveats in the documentation: http://pandas.pydata.org/pandas-docs/stable/indexing.html#indexing-view-versus-copy\n",
      "  # This is added back by InteractiveShellApp.init_path()\n"
     ]
    }
   ],
   "source": [
    "df_jra = pd.read_csv('1_key_data.csv',sep = '\\t')\n",
    "df_dem = cases_and_controls.merge(df_jra, on='patid', how='outer')\n",
    "\n",
    "\n",
    "def noDementia(x):\n",
    "    if x == 0: return False\n",
    "    else: return True\n",
    "    \n",
    "dft = df_dem[df_dem['isCase'] == False]\n",
    "\n",
    "dft['noDem2'] = df_dem['dementia_codes'].apply(noDementia)\n",
    "\n",
    "dft = dft[dft['noDem2'] == False]\n",
    "\n",
    "new_cc = cases_and_controls\n",
    "\n",
    "new_cc['noDem2'] = new_cc.patid.isin(dft['patid'])\n",
    "\n",
    "new_cc = new_cc[new_cc['noDem2'] == True]\n"
   ]
  },
  {
   "cell_type": "code",
   "execution_count": 39,
   "metadata": {},
   "outputs": [
    {
     "name": "stderr",
     "output_type": "stream",
     "text": [
      "/Users/Joanne/anaconda3/lib/python3.7/site-packages/ipykernel_launcher.py:4: SettingWithCopyWarning: \n",
      "A value is trying to be set on a copy of a slice from a DataFrame.\n",
      "Try using .loc[row_indexer,col_indexer] = value instead\n",
      "\n",
      "See the caveats in the documentation: http://pandas.pydata.org/pandas-docs/stable/indexing.html#indexing-view-versus-copy\n",
      "  after removing the cwd from sys.path.\n",
      "/Users/Joanne/anaconda3/lib/python3.7/site-packages/ipykernel_launcher.py:10: FutureWarning: Sorting because non-concatenation axis is not aligned. A future version\n",
      "of pandas will change to not sort by default.\n",
      "\n",
      "To accept the future behavior, pass 'sort=False'.\n",
      "\n",
      "To retain the current behavior and silence the warning, pass 'sort=True'.\n",
      "\n",
      "  # Remove the CWD from sys.path while we load stuff.\n"
     ]
    },
    {
     "name": "stdout",
     "output_type": "stream",
     "text": [
      "94330\n"
     ]
    }
   ],
   "source": [
    "matches['noDem'] = matches.control_patid.isin(new_cc['patid'])\n",
    "matches = matches[matches['noDem'] == True]\n",
    "cases = matches[['case_patid','control_patid','case_index','case_gender','case_birthyear']]\n",
    "cases['isCase'] = True\n",
    "controls = cases[['control_patid','case_gender','case_birthyear','case_index']]\n",
    "controls = controls.rename(index=str,columns={'control_patid':'patid','case_gender':'gender','case_birthyear':'yob','case_index':'index_date'})\n",
    "controls['isCase']=False\n",
    "cases = cases.drop(['control_patid'], axis=1)\n",
    "cases = cases.rename(index=str, columns={'case_patid':'patid','case_gender':'gender','case_birthyear':'yob','case_index':'index_date'})\n",
    "cases_and_controls = pd.concat([cases,controls])\n",
    "controls['patid'].dropna()\n",
    "controls['patid'] = controls['patid'].astype('float64')\n",
    "controls['patid'].apply(lambda x: x if np.isnan(x) else np.int64(x))\n",
    "controls['patid'].dropna()\n",
    "\n",
    "\n",
    "print(len(cases.axes[0]) + len(controls.axes[0]))"
   ]
  },
  {
   "cell_type": "code",
   "execution_count": 40,
   "metadata": {},
   "outputs": [],
   "source": [
    "df_codes = cases_and_controls\n",
    "def names(x, codes, y='column_name', df=df, df_codes= df_codes):\n",
    "#x = The name of the symptom/ what the columns are to be called\n",
    "#codes = the list of medcodes corresponding to the symptoms\n",
    "#y = the name of the array of names for the columns created below\n",
    "\n",
    "\n",
    "#Creating the names of the variables where x is replaces with the symptom\n",
    "    y = [x + '_yr_neg5', x + '_yr_neg4', x + '_yr_neg3', x + '_yr_neg2',\n",
    "        x + '_yr_neg1', x + '_yr_0']\n",
    "\n",
    "#does the name as for y but this is the nontime dependant version\n",
    "    codes_name = x + '_codes'\n",
    "    \n",
    "    \n",
    "#Finding all of the codes relating to that given variable    \n",
    "    df[codes_name] = df['medcode'].apply(lambda xx: 1 if (xx in codes) else 0)\n",
    "    \n",
    "#Splitting the codes into each year for the cases    \n",
    "    for i in range(6):\n",
    "        z =  df[(df['time_difference'] > (i-6)) & (df['time_difference'] < i-5)]\n",
    "        z = z.groupby('patid').sum().reset_index()\n",
    "        z = z[['patid', codes_name]]\n",
    "        z.columns = ['patid', y[i]]\n",
    "        df_codes = pd.merge(df_codes,\n",
    "                 z[['patid', y[i]]],\n",
    "                 on='patid', \n",
    "                 how='left')\n",
    "    \n",
    "    return df_codes"
   ]
  },
  {
   "cell_type": "code",
   "execution_count": 41,
   "metadata": {},
   "outputs": [],
   "source": [
    "df_codes_atten = names('attend_codes_', attend_codes, 'attend_codes_names')"
   ]
  },
  {
   "cell_type": "code",
   "execution_count": 42,
   "metadata": {},
   "outputs": [],
   "source": [
    "df_codes_tp = names('third_party', third_codes, 'third_party_names')\n"
   ]
  },
  {
   "cell_type": "code",
   "execution_count": 43,
   "metadata": {},
   "outputs": [],
   "source": [
    "df_codes_bc = names('behav_change', behav_codes, 'behav_change_names')\n"
   ]
  },
  {
   "cell_type": "code",
   "execution_count": 44,
   "metadata": {},
   "outputs": [],
   "source": [
    "df_codes_i = names('interaction', interaction_codes, 'interaction_names')\n"
   ]
  },
  {
   "cell_type": "code",
   "execution_count": 45,
   "metadata": {},
   "outputs": [],
   "source": [
    "df_codes_w = names('weight_loss', weight_loss_codes, 'weight_loss_names')\n"
   ]
  },
  {
   "cell_type": "code",
   "execution_count": 46,
   "metadata": {},
   "outputs": [],
   "source": [
    "dfs = [df_codes_atten, df_codes_tp, df_codes_bc, df_codes_i, df_codes_w] \n",
    "\n",
    "df_final = reduce(lambda left,right: pd.merge(left,right,on=['gender', 'index_date', 'isCase','patid', 'yob']), dfs)"
   ]
  },
  {
   "cell_type": "code",
   "execution_count": 47,
   "metadata": {},
   "outputs": [
    {
     "name": "stdout",
     "output_type": "stream",
     "text": [
      "94330\n"
     ]
    }
   ],
   "source": [
    "print(len(df_final.axes[0]))"
   ]
  },
  {
   "cell_type": "code",
   "execution_count": 48,
   "metadata": {},
   "outputs": [],
   "source": [
    "df_final.to_csv(\"patients_timeseries.csv\")"
   ]
  },
  {
   "cell_type": "code",
   "execution_count": null,
   "metadata": {},
   "outputs": [],
   "source": []
  },
  {
   "cell_type": "code",
   "execution_count": 57,
   "metadata": {},
   "outputs": [],
   "source": [
    "df_final = pd.read_csv('patients_timeseries.csv',delimiter=',')"
   ]
  },
  {
   "cell_type": "code",
   "execution_count": 60,
   "metadata": {},
   "outputs": [],
   "source": [
    "df_final['year'] = df['index_date'].map(lambda x: x.year)"
   ]
  },
  {
   "cell_type": "code",
   "execution_count": 59,
   "metadata": {},
   "outputs": [
    {
     "data": {
      "text/plain": [
       "0        2006\n",
       "1        2006\n",
       "2        2006\n",
       "3        2006\n",
       "4        2006\n",
       "5        2006\n",
       "6        2006\n",
       "7        2006\n",
       "8        2006\n",
       "9        2006\n",
       "10       2006\n",
       "11       2006\n",
       "12       2006\n",
       "13       2006\n",
       "14       2006\n",
       "15       2006\n",
       "16       2006\n",
       "17       2006\n",
       "18       2006\n",
       "19       2006\n",
       "20       2006\n",
       "21       2006\n",
       "22       2006\n",
       "23       2006\n",
       "24       2006\n",
       "25       2006\n",
       "26       2006\n",
       "27       2006\n",
       "28       2006\n",
       "29       2006\n",
       "         ... \n",
       "94300    2008\n",
       "94301    2008\n",
       "94302    2008\n",
       "94303    2008\n",
       "94304    2008\n",
       "94305    2008\n",
       "94306    2008\n",
       "94307    2008\n",
       "94308    2008\n",
       "94309    2008\n",
       "94310    2008\n",
       "94311    2008\n",
       "94312    2008\n",
       "94313    2008\n",
       "94314    2008\n",
       "94315    2008\n",
       "94316    2008\n",
       "94317    2008\n",
       "94318    2008\n",
       "94319    2008\n",
       "94320    2008\n",
       "94321    2008\n",
       "94322    2008\n",
       "94323    2004\n",
       "94324    2004\n",
       "94325    2004\n",
       "94326    2004\n",
       "94327    2004\n",
       "94328    2004\n",
       "94329    2004\n",
       "Name: year, Length: 94330, dtype: int64"
      ]
     },
     "execution_count": 59,
     "metadata": {},
     "output_type": "execute_result"
    }
   ],
   "source": [
    "df_final['year']"
   ]
  },
  {
   "cell_type": "code",
   "execution_count": null,
   "metadata": {},
   "outputs": [],
   "source": []
  }
 ],
 "metadata": {
  "kernelspec": {
   "display_name": "Python 3",
   "language": "python",
   "name": "python3"
  },
  "language_info": {
   "codemirror_mode": {
    "name": "ipython",
    "version": 3
   },
   "file_extension": ".py",
   "mimetype": "text/x-python",
   "name": "python",
   "nbconvert_exporter": "python",
   "pygments_lexer": "ipython3",
   "version": "3.7.1"
  }
 },
 "nbformat": 4,
 "nbformat_minor": 2
}
